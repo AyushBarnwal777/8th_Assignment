{
 "cells": [
  {
   "cell_type": "markdown",
   "metadata": {},
   "source": [
    "Q1. In Python, an exception is an event that occurs during the execution of a program that disrupts the normal flow of the program's instructions. When an error occurs, Python raises an exception, and if it's not handled, the program may terminate.\n",
    "\n",
    "An exception is a run-time error that can be handled by the program.\n",
    "Examples of exceptions include ZeroDivisionError, FileNotFoundError, and TypeError.\n",
    "You can use a try and except block to handle exceptions gracefully and prevent the program from crashing.\n",
    "\n",
    "A syntax error occurs when the code is not written according to the syntax rules of Python.\n",
    "These errors are detected by the Python interpreter during the parsing of the code.\n",
    "They must be fixed before the program can run."
   ]
  },
  {
   "cell_type": "markdown",
   "metadata": {},
   "source": [
    "Q2. When an exception is not handled in a program, it typically leads to the termination of the program and the display of an error message. This is because unhandled exceptions cause the program to halt abruptly, and Python prints a traceback that shows the sequence of calls that led to the exception."
   ]
  },
  {
   "cell_type": "code",
   "execution_count": 1,
   "metadata": {},
   "outputs": [
    {
     "ename": "ZeroDivisionError",
     "evalue": "division by zero",
     "output_type": "error",
     "traceback": [
      "\u001b[1;31m---------------------------------------------------------------------------\u001b[0m",
      "\u001b[1;31mZeroDivisionError\u001b[0m                         Traceback (most recent call last)",
      "\u001b[1;32mc:\\Users\\ayush\\OneDrive\\Desktop\\PW Assignment\\Assignment 8\\8th_assignment.ipynb Cell 3\u001b[0m line \u001b[0;36m8\n\u001b[0;32m      <a href='vscode-notebook-cell:/c%3A/Users/ayush/OneDrive/Desktop/PW%20Assignment/Assignment%208/8th_assignment.ipynb#W3sZmlsZQ%3D%3D?line=4'>5</a>\u001b[0m     \u001b[39mreturn\u001b[39;00m result\n\u001b[0;32m      <a href='vscode-notebook-cell:/c%3A/Users/ayush/OneDrive/Desktop/PW%20Assignment/Assignment%208/8th_assignment.ipynb#W3sZmlsZQ%3D%3D?line=6'>7</a>\u001b[0m \u001b[39m# Calling the function with an error\u001b[39;00m\n\u001b[1;32m----> <a href='vscode-notebook-cell:/c%3A/Users/ayush/OneDrive/Desktop/PW%20Assignment/Assignment%208/8th_assignment.ipynb#W3sZmlsZQ%3D%3D?line=7'>8</a>\u001b[0m result \u001b[39m=\u001b[39m divide_numbers(\u001b[39m10\u001b[39;49m, \u001b[39m0\u001b[39;49m)\n\u001b[0;32m      <a href='vscode-notebook-cell:/c%3A/Users/ayush/OneDrive/Desktop/PW%20Assignment/Assignment%208/8th_assignment.ipynb#W3sZmlsZQ%3D%3D?line=8'>9</a>\u001b[0m \u001b[39mprint\u001b[39m(result)\n",
      "\u001b[1;32mc:\\Users\\ayush\\OneDrive\\Desktop\\PW Assignment\\Assignment 8\\8th_assignment.ipynb Cell 3\u001b[0m line \u001b[0;36m4\n\u001b[0;32m      <a href='vscode-notebook-cell:/c%3A/Users/ayush/OneDrive/Desktop/PW%20Assignment/Assignment%208/8th_assignment.ipynb#W3sZmlsZQ%3D%3D?line=2'>3</a>\u001b[0m \u001b[39mdef\u001b[39;00m \u001b[39mdivide_numbers\u001b[39m(a, b):\n\u001b[1;32m----> <a href='vscode-notebook-cell:/c%3A/Users/ayush/OneDrive/Desktop/PW%20Assignment/Assignment%208/8th_assignment.ipynb#W3sZmlsZQ%3D%3D?line=3'>4</a>\u001b[0m     result \u001b[39m=\u001b[39m a \u001b[39m/\u001b[39;49m b\n\u001b[0;32m      <a href='vscode-notebook-cell:/c%3A/Users/ayush/OneDrive/Desktop/PW%20Assignment/Assignment%208/8th_assignment.ipynb#W3sZmlsZQ%3D%3D?line=4'>5</a>\u001b[0m     \u001b[39mreturn\u001b[39;00m result\n",
      "\u001b[1;31mZeroDivisionError\u001b[0m: division by zero"
     ]
    }
   ],
   "source": [
    "#Example\n",
    "# Example of an unhandled exception\n",
    "def divide_numbers(a, b):\n",
    "    result = a / b\n",
    "    return result\n",
    "\n",
    "# Calling the function with an error\n",
    "result = divide_numbers(10, 0)\n",
    "print(result)\n"
   ]
  },
  {
   "cell_type": "markdown",
   "metadata": {},
   "source": [
    "Q3. In Python, the try, except, else, and finally statements are used to handle exceptions. Here's a brief explanation of each:\n",
    "\n",
    "try statement:\n",
    "\n",
    "The try block encloses a section of code where you anticipate an exception might occur.\n",
    "If an exception occurs within the try block, it is caught, and the corresponding except block is executed.\n",
    "except statement:\n",
    "\n",
    "The except block specifies what actions to take when a particular exception occurs.\n",
    "You can have multiple except blocks to handle different types of exceptions.\n",
    "else statement:\n",
    "\n",
    "The else block, which is optional, is executed if no exceptions are raised in the try block.\n",
    "It is useful for code that should only run when no exceptions occur.\n",
    "finally statement:\n",
    "\n",
    "The finally block, which is also optional, is executed whether an exception occurs or not.\n",
    "It is often used for cleanup actions, such as closing files or releasing resources."
   ]
  },
  {
   "cell_type": "code",
   "execution_count": 2,
   "metadata": {},
   "outputs": [
    {
     "name": "stdout",
     "output_type": "stream",
     "text": [
      "Error: Cannot divide by zero!\n",
      "This block always executes, regardless of exceptions.\n",
      "Error: unsupported operand type(s) for /: 'int' and 'str'\n",
      "This block always executes, regardless of exceptions.\n",
      "Result of division: 5.0\n",
      "This block always executes, regardless of exceptions.\n"
     ]
    }
   ],
   "source": [
    "#Example\n",
    "def divide_numbers(a, b):\n",
    "    try:\n",
    "        result = a / b\n",
    "    except ZeroDivisionError:\n",
    "        print(\"Error: Cannot divide by zero!\")\n",
    "    except TypeError as e:\n",
    "        print(f\"Error: {e}\")\n",
    "    else:\n",
    "        print(f\"Result of division: {result}\")\n",
    "    finally:\n",
    "        print(\"This block always executes, regardless of exceptions.\")\n",
    "\n",
    "# Example 1: Handling division by zero\n",
    "divide_numbers(10, 0)\n",
    "\n",
    "# Example 2: Handling a type error\n",
    "divide_numbers(10, '2')\n",
    "\n",
    "# Example 3: No exceptions\n",
    "divide_numbers(10, 2)\n"
   ]
  },
  {
   "cell_type": "markdown",
   "metadata": {},
   "source": [
    "Q4. try statement:\n",
    "\n",
    "The try block encloses a section of code where you anticipate an exception might occur.\n",
    "If an exception occurs within the try block, it is caught, and the corresponding except block is executed.\n",
    "\n",
    "else statement:\n",
    "\n",
    "The else block, which is optional, is executed if no exceptions are raised in the try block.\n",
    "It is useful for code that should only run when no exceptions occur.\n",
    "\n",
    "finally statement:\n",
    "\n",
    "The finally block, which is also optional, is executed whether an exception occurs or not.\n",
    "It is often used for cleanup actions, such as closing files or releasing resources.\n",
    "\n",
    "raise statement:\n",
    "In Python, the raise statement is used to explicitly raise an exception or error in a program. It allows you to generate exceptions in situations where they might not occur naturally. You can use the raise statement with or without specifying an exception type."
   ]
  },
  {
   "cell_type": "code",
   "execution_count": 3,
   "metadata": {},
   "outputs": [
    {
     "name": "stdout",
     "output_type": "stream",
     "text": [
      "Error: Cannot divide by zero!\n",
      "This block always executes, regardless of exceptions.\n"
     ]
    },
    {
     "ename": "UnboundLocalError",
     "evalue": "cannot access local variable 'result' where it is not associated with a value",
     "output_type": "error",
     "traceback": [
      "\u001b[1;31m---------------------------------------------------------------------------\u001b[0m",
      "\u001b[1;31mUnboundLocalError\u001b[0m                         Traceback (most recent call last)",
      "\u001b[1;32mc:\\Users\\ayush\\OneDrive\\Desktop\\PW Assignment\\Assignment 8\\8th_assignment.ipynb Cell 7\u001b[0m line \u001b[0;36m1\n\u001b[0;32m     <a href='vscode-notebook-cell:/c%3A/Users/ayush/OneDrive/Desktop/PW%20Assignment/Assignment%208/8th_assignment.ipynb#X10sZmlsZQ%3D%3D?line=14'>15</a>\u001b[0m     \u001b[39mreturn\u001b[39;00m result\n\u001b[0;32m     <a href='vscode-notebook-cell:/c%3A/Users/ayush/OneDrive/Desktop/PW%20Assignment/Assignment%208/8th_assignment.ipynb#X10sZmlsZQ%3D%3D?line=16'>17</a>\u001b[0m \u001b[39m# Example 1: Handling division by zero\u001b[39;00m\n\u001b[1;32m---> <a href='vscode-notebook-cell:/c%3A/Users/ayush/OneDrive/Desktop/PW%20Assignment/Assignment%208/8th_assignment.ipynb#X10sZmlsZQ%3D%3D?line=17'>18</a>\u001b[0m result1 \u001b[39m=\u001b[39m divide_numbers(\u001b[39m10\u001b[39;49m, \u001b[39m0\u001b[39;49m)\n\u001b[0;32m     <a href='vscode-notebook-cell:/c%3A/Users/ayush/OneDrive/Desktop/PW%20Assignment/Assignment%208/8th_assignment.ipynb#X10sZmlsZQ%3D%3D?line=19'>20</a>\u001b[0m \u001b[39m# Example 2: Handling a type error\u001b[39;00m\n\u001b[0;32m     <a href='vscode-notebook-cell:/c%3A/Users/ayush/OneDrive/Desktop/PW%20Assignment/Assignment%208/8th_assignment.ipynb#X10sZmlsZQ%3D%3D?line=20'>21</a>\u001b[0m result2 \u001b[39m=\u001b[39m divide_numbers(\u001b[39m10\u001b[39m, \u001b[39m'\u001b[39m\u001b[39m2\u001b[39m\u001b[39m'\u001b[39m)\n",
      "\u001b[1;32mc:\\Users\\ayush\\OneDrive\\Desktop\\PW Assignment\\Assignment 8\\8th_assignment.ipynb Cell 7\u001b[0m line \u001b[0;36m1\n\u001b[0;32m     <a href='vscode-notebook-cell:/c%3A/Users/ayush/OneDrive/Desktop/PW%20Assignment/Assignment%208/8th_assignment.ipynb#X10sZmlsZQ%3D%3D?line=10'>11</a>\u001b[0m \u001b[39mfinally\u001b[39;00m:\n\u001b[0;32m     <a href='vscode-notebook-cell:/c%3A/Users/ayush/OneDrive/Desktop/PW%20Assignment/Assignment%208/8th_assignment.ipynb#X10sZmlsZQ%3D%3D?line=11'>12</a>\u001b[0m     \u001b[39mprint\u001b[39m(\u001b[39m\"\u001b[39m\u001b[39mThis block always executes, regardless of exceptions.\u001b[39m\u001b[39m\"\u001b[39m)\n\u001b[1;32m---> <a href='vscode-notebook-cell:/c%3A/Users/ayush/OneDrive/Desktop/PW%20Assignment/Assignment%208/8th_assignment.ipynb#X10sZmlsZQ%3D%3D?line=12'>13</a>\u001b[0m     result \u001b[39m+\u001b[39m\u001b[39m=\u001b[39m \u001b[39m5\u001b[39m   \u001b[39m# Adding 5 to the result in the 'finally' block\u001b[39;00m\n\u001b[0;32m     <a href='vscode-notebook-cell:/c%3A/Users/ayush/OneDrive/Desktop/PW%20Assignment/Assignment%208/8th_assignment.ipynb#X10sZmlsZQ%3D%3D?line=14'>15</a>\u001b[0m \u001b[39mreturn\u001b[39;00m result\n",
      "\u001b[1;31mUnboundLocalError\u001b[0m: cannot access local variable 'result' where it is not associated with a value"
     ]
    }
   ],
   "source": [
    "def divide_numbers(a, b):\n",
    "    try:\n",
    "        result = a / b\n",
    "    except ZeroDivisionError:\n",
    "        print(\"Error: Cannot divide by zero!\")\n",
    "    except TypeError as e:\n",
    "        print(f\"Error: {e}\")\n",
    "    else:\n",
    "        print(f\"Result of division: {result}\")\n",
    "        result += 10  # Adding 10 to the result in the 'else' block\n",
    "    finally:\n",
    "        print(\"This block always executes, regardless of exceptions.\")\n",
    "        result += 5   # Adding 5 to the result in the 'finally' block\n",
    "\n",
    "    return result\n",
    "\n",
    "# Example 1: Handling division by zero\n",
    "result1 = divide_numbers(10, 0)\n",
    "\n",
    "# Example 2: Handling a type error\n",
    "result2 = divide_numbers(10, '2')\n",
    "\n",
    "# Example 3: No exceptions\n",
    "result3 = divide_numbers(10, 2)\n",
    "\n",
    "# Print results\n",
    "print(\"Result 1:\", result1)\n",
    "print(\"Result 2:\", result2)\n",
    "print(\"Result 3:\", result3)\n"
   ]
  },
  {
   "cell_type": "code",
   "execution_count": 4,
   "metadata": {},
   "outputs": [
    {
     "name": "stdout",
     "output_type": "stream",
     "text": [
      "Error: Cannot calculate square root of a negative number\n"
     ]
    }
   ],
   "source": [
    "#raise\n",
    "def calculate_square_root(number):\n",
    "    if number < 0:\n",
    "        raise ValueError(\"Cannot calculate square root of a negative number\")\n",
    "    else:\n",
    "        return number ** 0.5\n",
    "\n",
    "try:\n",
    "    result = calculate_square_root(-4)\n",
    "    print(\"Square root:\", result)\n",
    "except ValueError as e:\n",
    "    print(f\"Error: {e}\")\n"
   ]
  },
  {
   "cell_type": "markdown",
   "metadata": {},
   "source": [
    "Q5. In Python, custom exceptions are user-defined exception classes that inherit from the built-in Exception class or one of its subclasses. Creating custom exceptions allows you to define and raise exceptions that are specific to your application or domain. This can enhance the readability and maintainability of your code, as it allows you to handle different error scenarios in a more structured and descriptive way.\n",
    "\n",
    "Here's an example to illustrate why and how you might use custom exceptions:"
   ]
  },
  {
   "cell_type": "code",
   "execution_count": 5,
   "metadata": {},
   "outputs": [
    {
     "name": "stdout",
     "output_type": "stream",
     "text": [
      "Error: Insufficient funds. Balance: 100, Withdrawal amount: 150\n"
     ]
    }
   ],
   "source": [
    "class WithdrawalError(Exception):\n",
    "    def __init__(self, balance, amount):\n",
    "        self.balance = balance\n",
    "        self.amount = amount\n",
    "        super().__init__(f\"Error: Insufficient funds. Balance: {balance}, Withdrawal amount: {amount}\")\n",
    "\n",
    "def perform_withdrawal(balance, amount):\n",
    "    if amount > balance:\n",
    "        raise WithdrawalError(balance, amount)\n",
    "    else:\n",
    "        new_balance = balance - amount\n",
    "        print(f\"Withdrawal successful! New balance: {new_balance}\")\n",
    "\n",
    "# Example usage\n",
    "try:\n",
    "    perform_withdrawal(100, 150)\n",
    "except WithdrawalError as e:\n",
    "    print(e)\n"
   ]
  },
  {
   "cell_type": "markdown",
   "metadata": {},
   "source": [
    "Q6. In this example, I'll create a custom exception called InvalidInputError to represent an error when an invalid input is detected."
   ]
  },
  {
   "cell_type": "code",
   "execution_count": 6,
   "metadata": {},
   "outputs": [
    {
     "name": "stdout",
     "output_type": "stream",
     "text": [
      "Error: Invalid input - abc\n"
     ]
    }
   ],
   "source": [
    "class InvalidInputError(Exception):\n",
    "    def __init__(self, input_value):\n",
    "        self.input_value = input_value\n",
    "        super().__init__(f\"Error: Invalid input - {input_value}\")\n",
    "\n",
    "def process_input(value):\n",
    "    if not isinstance(value, int):\n",
    "        raise InvalidInputError(value)\n",
    "    else:\n",
    "        print(f\"Processing input: {value}\")\n",
    "\n",
    "# Example usage\n",
    "try:\n",
    "    user_input = \"abc\"\n",
    "    process_input(user_input)\n",
    "except InvalidInputError as e:\n",
    "    print(e)\n"
   ]
  }
 ],
 "metadata": {
  "kernelspec": {
   "display_name": "Python 3",
   "language": "python",
   "name": "python3"
  },
  "language_info": {
   "codemirror_mode": {
    "name": "ipython",
    "version": 3
   },
   "file_extension": ".py",
   "mimetype": "text/x-python",
   "name": "python",
   "nbconvert_exporter": "python",
   "pygments_lexer": "ipython3",
   "version": "3.11.3"
  }
 },
 "nbformat": 4,
 "nbformat_minor": 2
}
